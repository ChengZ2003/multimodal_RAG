{
 "cells": [
  {
   "cell_type": "code",
   "execution_count": null,
   "metadata": {},
   "outputs": [],
   "source": [
    "from unstructured.partition.pdf import partition_pdf\n",
    "from unstructured.chunking.basic import chunk_elements"
   ]
  },
  {
   "cell_type": "code",
   "execution_count": 1,
   "metadata": {},
   "outputs": [],
   "source": [
    "import sys\n",
    "sys.path.append('../')\n",
    "\n",
    "from utils.img_convertor.cpm_convertor import CPMConvertor"
   ]
  },
  {
   "cell_type": "code",
   "execution_count": null,
   "metadata": {},
   "outputs": [],
   "source": [
    "import os\n",
    "file_path=\"./3900911.pdf\"  # mandatory\n",
    "filename=file_path.split(\"/\")[-1]\n",
    "output_img_dir = os.path.join(\"./images\", filename.split(\".\")[0])\n",
    "\n",
    "raw_docs = partition_pdf(\n",
    "    filename=file_path,  # mandatory\n",
    "    strategy=\"hi_res\",  # mandatory to use ``hi_res`` strategy\n",
    "    extract_images_in_pdf=True,  # mandatory to set as ``True``\n",
    "    extract_image_block_types=[\"Image\", \"Table\"],  # optional\n",
    "    extract_image_block_to_payload=False,  # optional\n",
    "    extract_image_block_output_dir=output_img_dir,  # optional\n",
    ")"
   ]
  },
  {
   "cell_type": "code",
   "execution_count": null,
   "metadata": {},
   "outputs": [],
   "source": [
    "raw_docs[2].to_dict()"
   ]
  },
  {
   "cell_type": "code",
   "execution_count": null,
   "metadata": {},
   "outputs": [],
   "source": [
    "img_ele_idx = []\n",
    "for doc in raw_docs:\n",
    "    if doc.to_dict()['type'] == 'Image' or doc.to_dict()['type'] == 'Table':\n",
    "        img_ele_idx.append(doc.to_dict()['element_id'])\n",
    "\n",
    "img_ele_idx"
   ]
  },
  {
   "cell_type": "code",
   "execution_count": null,
   "metadata": {},
   "outputs": [],
   "source": [
    "converter = CPMConvertor()\n",
    "question = 'Please convert the image to a markdown syntax table'"
   ]
  },
  {
   "cell_type": "code",
   "execution_count": null,
   "metadata": {},
   "outputs": [],
   "source": [
    "from tqdm import tqdm\n",
    "import pandas as pd\n",
    "import os\n",
    "\n",
    "data_path = \"./data\"\n",
    "if not os.path.exists(data_path):\n",
    "    os.makedirs(data_path)\n",
    "\n",
    "documents = []\n",
    "img_captions = []\n",
    "\n",
    "for doc in tqdm(raw_docs, desc=\"Converting documents\"):\n",
    "    if doc.to_dict()[\"type\"] in [\"Table\", \"Image\"]:\n",
    "        img_path = doc.to_dict()[\"metadata\"][\"image_path\"]\n",
    "        converted_text = converter.convert(question=question, image_path=img_path)\n",
    "        img_captions.append({\"image_path\": img_path, \"caption\": converted_text})\n",
    "        converted_doc = doc\n",
    "        converted_doc.text = converted_text\n",
    "        documents.append(converted_doc)\n",
    "    else:\n",
    "        documents.append(doc)\n",
    "\n",
    "img_captions_df = pd.DataFrame(img_captions)"
   ]
  },
  {
   "cell_type": "code",
   "execution_count": null,
   "metadata": {},
   "outputs": [],
   "source": [
    "img_caption_path = os.path.join(data_path, filename.split('.')[0])\n",
    "if not os.path.exists(img_caption_path):\n",
    "    os.makedirs(img_caption_path)\n",
    "\n",
    "img_captions_df.to_csv(os.path.join(img_caption_path, 'img_captions.csv'))"
   ]
  },
  {
   "cell_type": "code",
   "execution_count": null,
   "metadata": {},
   "outputs": [],
   "source": [
    "chunks = chunk_elements(documents,\n",
    "                        max_characters=512,\n",
    "                        overlap=50,)"
   ]
  },
  {
   "cell_type": "code",
   "execution_count": null,
   "metadata": {},
   "outputs": [],
   "source": [
    "chunks[0].to_dict()"
   ]
  },
  {
   "cell_type": "code",
   "execution_count": null,
   "metadata": {},
   "outputs": [],
   "source": [
    "from llama_index.core import Document\n",
    "\n",
    "documents = []\n",
    "\n",
    "for chunk in chunks:\n",
    "    document = Document(\n",
    "        doc_id=chunk.to_dict()[\"element_id\"],\n",
    "        text=chunk.to_dict()[\"text\"],\n",
    "        metadata={\"page_number\": chunk.to_dict()[\"metadata\"][\"page_number\"],\n",
    "                  \"filename\": chunk.to_dict()[\"metadata\"][\"filename\"]}\n",
    "    )\n",
    "    documents.append(document)"
   ]
  },
  {
   "cell_type": "code",
   "execution_count": null,
   "metadata": {},
   "outputs": [],
   "source": [
    "from ragas.testset.generator import TestsetGenerator\n",
    "from ragas.testset.evolutions import simple, reasoning, multi_context\n",
    "from llama_index.embeddings.huggingface import HuggingFaceEmbedding\n",
    "from llama_index.llms.dashscope import DashScope, DashScopeGenerationModels\n",
    "from llama_index.llms.ollama import Ollama\n",
    "import os\n",
    "\n",
    "generator_llm = Ollama(model=\"qwen2\", request_timeout=60.0)\n",
    "critic_llm = Ollama(model=\"qwen2\", request_timeout=60.0)\n",
    "\n",
    "embedding_path = \"/home/project/data/jc/mmRAG/model/bge-m3\"\n",
    "embeddings = HuggingFaceEmbedding(embedding_path)\n",
    "\n",
    "generator = TestsetGenerator.from_llama_index(\n",
    "    generator_llm=generator_llm,\n",
    "    critic_llm=critic_llm,\n",
    "    embeddings=embeddings\n",
    ")"
   ]
  },
  {
   "cell_type": "code",
   "execution_count": null,
   "metadata": {},
   "outputs": [],
   "source": [
    "testset = generator.generate_with_llamaindex_docs(documents,\n",
    "                                                  test_size=20,\n",
    "                                                  with_debugging_logs=True,\n",
    "                                                  raise_exceptions=False,\n",
    "                                                  distributions={simple: 0.5,\n",
    "                                                                 reasoning: 0.25,\n",
    "                                                                 multi_context: 0.25})"
   ]
  },
  {
   "cell_type": "code",
   "execution_count": null,
   "metadata": {},
   "outputs": [],
   "source": [
    "testset.to_pandas()"
   ]
  },
  {
   "cell_type": "code",
   "execution_count": null,
   "metadata": {},
   "outputs": [],
   "source": [
    "testset.to_pandas().to_csv(os.path.join(img_caption_path, 'testset.csv'))"
   ]
  },
  {
   "cell_type": "code",
   "execution_count": null,
   "metadata": {},
   "outputs": [],
   "source": [
    "ds = testset.to_dataset()"
   ]
  },
  {
   "cell_type": "code",
   "execution_count": null,
   "metadata": {},
   "outputs": [],
   "source": [
    "ds_dict = ds.to_dict()"
   ]
  },
  {
   "cell_type": "code",
   "execution_count": null,
   "metadata": {},
   "outputs": [],
   "source": [
    "from llama_index.vector_stores.milvus import MilvusVectorStore\n",
    "from llama_index.embeddings.huggingface import HuggingFaceEmbedding\n",
    "from llama_index.postprocessor.flag_embedding_reranker import (\n",
    "    FlagEmbeddingReranker,\n",
    ")\n",
    "from llama_index.core import (\n",
    "    Document,\n",
    "    VectorStoreIndex,\n",
    "    SimpleDirectoryReader,\n",
    "    StorageContext,\n",
    "    ServiceContext,\n",
    ")\n",
    "from llama_index.llms.dashscope import DashScope, DashScopeGenerationModels\n",
    "from llama_index.llms.ollama import Ollama\n",
    "\n",
    "import os\n",
    "from utils.system_prompt import EXPERT_Q_AND_A_SYSTEM\n",
    "\n",
    "\n",
    "llm = Ollama(model=\"qwen2\", request_timeout=60.0)\n",
    "embed_path = \"/home/project/data/jc/mmRAG/model/bge-m3\"\n",
    "embed_model = HuggingFaceEmbedding(embed_path)\n",
    "\n",
    "service_context = ServiceContext.from_defaults(\n",
    "    llm=llm,\n",
    "    embed_model=embed_model,\n",
    "    system_prompt=EXPERT_Q_AND_A_SYSTEM,\n",
    ")\n",
    "\n",
    "vector_store = MilvusVectorStore(\n",
    "        uri=\"http://localhost:19530/\",\n",
    "        token=\"root:Milvus\",\n",
    "        collection_name='demo',\n",
    "        dim=1024,\n",
    "        overwrite=True,\n",
    "        enable_sparse=True,\n",
    "        hybrid_ranker=\"RRFRanker\",\n",
    "        hybrid_ranker_params={\"k\": 60},\n",
    "    )\n",
    "\n",
    "storage_context = StorageContext.from_defaults(vector_store=vector_store)\n",
    "\n",
    "index = VectorStoreIndex.from_documents(\n",
    "        documents,\n",
    "        service_context=service_context,\n",
    "        embed_model=embed_model,\n",
    "        storage_context=storage_context,\n",
    ")\n",
    "\n",
    "rerank = FlagEmbeddingReranker(model=\"BAAI/bge-reranker-large\", top_n=5)\n",
    "query_engine = index.as_query_engine(\n",
    "    similarity_top_k=10, node_postprocessors=[rerank]\n",
    ")"
   ]
  },
  {
   "cell_type": "code",
   "execution_count": null,
   "metadata": {},
   "outputs": [],
   "source": [
    "from ragas.metrics import (\n",
    "    faithfulness,\n",
    "    answer_relevancy,\n",
    "    context_precision,\n",
    "    context_recall,\n",
    ")\n",
    "from ragas.metrics.critique import harmfulness\n",
    "\n",
    "metrics = [\n",
    "    faithfulness,\n",
    "    answer_relevancy,\n",
    "    context_precision,\n",
    "    context_recall,\n",
    "    harmfulness,\n",
    "]\n",
    "\n",
    "from ragas.integrations.llama_index import evaluate\n",
    "\n",
    "result = evaluate(\n",
    "    query_engine=query_engine,\n",
    "    metrics=metrics,\n",
    "    dataset=ds_dict,\n",
    "    llm=llm,\n",
    "    embeddings=embed_model,\n",
    "    raise_exceptions=False\n",
    ")"
   ]
  },
  {
   "cell_type": "code",
   "execution_count": null,
   "metadata": {},
   "outputs": [],
   "source": [
    "result.to_pandas()"
   ]
  },
  {
   "cell_type": "code",
   "execution_count": null,
   "metadata": {},
   "outputs": [],
   "source": [
    "result.to_pandas().to_csv(os.path.join(img_caption_path,'result.csv'))"
   ]
  }
 ],
 "metadata": {
  "kernelspec": {
   "display_name": "multimodal_RAG",
   "language": "python",
   "name": "python3"
  },
  "language_info": {
   "codemirror_mode": {
    "name": "ipython",
    "version": 3
   },
   "file_extension": ".py",
   "mimetype": "text/x-python",
   "name": "python",
   "nbconvert_exporter": "python",
   "pygments_lexer": "ipython3",
   "version": "3.11.5"
  },
  "orig_nbformat": 4
 },
 "nbformat": 4,
 "nbformat_minor": 2
}
