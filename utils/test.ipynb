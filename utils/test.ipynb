{
 "cells": [
  {
   "cell_type": "code",
   "execution_count": 4,
   "metadata": {},
   "outputs": [
    {
     "name": "stderr",
     "output_type": "stream",
     "text": [
      "Special tokens have been added in the vocabulary, make sure the associated word embeddings are fine-tuned or trained.\n",
      "Loading checkpoint shards: 100%|██████████| 7/7 [00:02<00:00,  2.85it/s]\n"
     ]
    }
   ],
   "source": [
    "from img_convertor.cpm_convertor import CPMConvertor\n",
    "\n",
    "model_path = \"/home/project/data/jc/mmRAG/model/MiniCPM-Llama3-V-2_5\"\n",
    "\n",
    "convertor  = CPMConvertor(model_path, device='cuda:1')\n"
   ]
  },
  {
   "cell_type": "code",
   "execution_count": null,
   "metadata": {},
   "outputs": [],
   "source": [
    "convertor.clear_GPU_mem()"
   ]
  }
 ],
 "metadata": {
  "kernelspec": {
   "display_name": "multimodal_RAG",
   "language": "python",
   "name": "python3"
  },
  "language_info": {
   "codemirror_mode": {
    "name": "ipython",
    "version": 3
   },
   "file_extension": ".py",
   "mimetype": "text/x-python",
   "name": "python",
   "nbconvert_exporter": "python",
   "pygments_lexer": "ipython3",
   "version": "3.10.14"
  },
  "orig_nbformat": 4
 },
 "nbformat": 4,
 "nbformat_minor": 2
}
